{
 "cells": [
  {
   "cell_type": "code",
   "execution_count": 1,
   "metadata": {},
   "outputs": [
    {
     "data": {
      "text/html": [
       "<style>.container { width:100% !important; }</style>"
      ],
      "text/plain": [
       "<IPython.core.display.HTML object>"
      ]
     },
     "metadata": {},
     "output_type": "display_data"
    }
   ],
   "source": [
    "from IPython.core.display import display, HTML\n",
    "display(HTML(\"<style>.container { width:100% !important; }</style>\"))"
   ]
  },
  {
   "cell_type": "markdown",
   "metadata": {},
   "source": [
    "# A Framework to Learn with Interpretation"
   ]
  },
  {
   "cell_type": "code",
   "execution_count": 66,
   "metadata": {},
   "outputs": [
    {
     "name": "stdout",
     "output_type": "stream",
     "text": [
      "Imported all modules\n"
     ]
    }
   ],
   "source": [
    "import matplotlib # Importing matplotlib for it working on remote server\n",
    "import matplotlib.pyplot as plt\n",
    "import matplotlib.colors as color\n",
    "\n",
    "import os, sys, itertools\n",
    "home_dir = os.getcwd()\n",
    "\n",
    "import torch\n",
    "import torch.nn as nn\n",
    "import torch.nn.functional as F\n",
    "import torch.optim as optim\n",
    "from torch.optim import lr_scheduler\n",
    "from torch.autograd import Variable\n",
    "from torchvision import datasets, transforms, models\n",
    "\n",
    "import networks\n",
    "import guided_backpropagation as gb\n",
    "import numpy as np\n",
    "import dataloader as dl\n",
    "import utils\n",
    "\n",
    "torch.manual_seed(21)\n",
    "torch.cuda.manual_seed(21)\n",
    "np.random.seed(21)\n",
    "\n",
    "print ('Imported all modules')"
   ]
  },
  {
   "cell_type": "code",
   "execution_count": 67,
   "metadata": {},
   "outputs": [],
   "source": [
    "use_cuda = False\n",
    "device = torch.device(\"cuda\" if use_cuda else \"cpu\")\n",
    "train_shuffle = True\n",
    "test_shuffle = True\n",
    "train_epoch_info = []\n",
    "test_epoch_info = []"
   ]
  },
  {
   "cell_type": "code",
   "execution_count": 68,
   "metadata": {},
   "outputs": [],
   "source": [
    "criterion = nn.CrossEntropyLoss()\n",
    "criterion2 = nn.MSELoss()"
   ]
  },
  {
   "cell_type": "markdown",
   "metadata": {},
   "source": [
    "## Loading Data and Defining Networks "
   ]
  },
  {
   "cell_type": "code",
   "execution_count": 69,
   "metadata": {},
   "outputs": [
    {
     "name": "stdout",
     "output_type": "stream",
     "text": [
      "Dataloader ready\n"
     ]
    }
   ],
   "source": [
    "dataset = 'mnist' # Options: qdraw, mnist, fmnist\n",
    "\n",
    "if dataset == 'qdraw':\n",
    "    n_classes = 10\n",
    "    train_data = dl.QuickDraw(ncat=n_classes, mode='train', root_dir=home_dir + '/datasets/data_quickdraw/')\n",
    "    test_data = dl.QuickDraw(ncat=n_classes, mode='test', root_dir=home_dir + '/datasets/data_quickdraw/')\n",
    "    train_loader = torch.utils.data.DataLoader( dl.QuickDraw(ncat=n_classes, mode='train', root_dir=home_dir + '/datasets/data_quickdraw/'), batch_size=64, shuffle=train_shuffle, num_workers=32 )\n",
    "    test_loader = torch.utils.data.DataLoader( dl.QuickDraw(ncat=n_classes, mode='test', root_dir=home_dir + '/datasets/data_quickdraw/'), batch_size=100, shuffle=test_shuffle, num_workers=16 )\n",
    "elif dataset == 'mnist':\n",
    "    train_data = datasets.MNIST(home_dir + '/datasets', train=True, download=True, transform=transforms.Compose([ transforms.ToTensor() ]))\n",
    "    test_data = datasets.MNIST(home_dir + '/datasets', train=False, download=True, transform=transforms.Compose([ transforms.ToTensor() ]))\n",
    "    train_loader = torch.utils.data.DataLoader( datasets.MNIST(home_dir + '/datasets', train=True, download=True, transform=transforms.Compose([ transforms.ToTensor() ])), batch_size=16, shuffle=train_shuffle, num_workers=12)\n",
    "    test_loader = torch.utils.data.DataLoader( datasets.MNIST(home_dir + '/datasets', train=False, download=True, transform=transforms.Compose([ transforms.ToTensor() ])), batch_size=1024, shuffle=test_shuffle, num_workers=20)\n",
    "elif dataset == 'fmnist':\n",
    "    train_data = datasets.FashionMNIST(home_dir + '/datasets', train=True, download=True, transform=transforms.Compose([ transforms.ToTensor() ]))\n",
    "    test_data = datasets.FashionMNIST(home_dir + '/datasets', train=False, download=True, transform=transforms.Compose([ transforms.ToTensor() ]))  \n",
    "    train_loader = torch.utils.data.DataLoader( datasets.FashionMNIST(home_dir + '/datasets', train=True, download=True, transform=transforms.Compose([ transforms.ToTensor() ])), batch_size=16, shuffle=train_shuffle, num_workers=12)\n",
    "    test_loader = torch.utils.data.DataLoader( datasets.FashionMNIST(home_dir + '/datasets', train=False, download=True, transform=transforms.Compose([ transforms.ToTensor() ])), batch_size=64, shuffle=test_shuffle, num_workers=20)\n",
    "\n",
    "sample_data, sample_target = next(iter(test_loader))\n",
    "print ('Dataloader ready')"
   ]
  },
  {
   "cell_type": "code",
   "execution_count": 70,
   "metadata": {},
   "outputs": [],
   "source": [
    "if dataset == 'mnist' or dataset == 'fmnist':\n",
    "    latent_size = 25\n",
    "    f = networks.Net2_MNIST_old().to(device)\n",
    "    g = networks.attr_MNIST(out_size=latent_size).to(device)\n",
    "    d = networks.decode_MNIST(in_size=latent_size).to(device)\n",
    "    h = networks.explainer(in_size=latent_size, n_classes=10).to(device)\n",
    "    optimizer = optim.Adam(itertools.chain(f.parameters(), g.parameters(), d.parameters()), lr=0.0001)\n",
    "\n",
    "elif dataset == 'qdraw':\n",
    "    latent_size = 24\n",
    "    f = networks.MyResNet(n_classes=n_classes, version='34').to(device)\n",
    "    g = networks.attr_RN18_multi(out_size=latent_size).to(device)\n",
    "    d = networks.decode2_MNIST(in_size=latent_size).to(device)\n",
    "    h = networks.explainer(in_size=latent_size, n_classes=n_classes).to(device)\n",
    "    optimizer = optim.Adam(itertools.chain(f.parameters(), g.parameters(), d.parameters(), h.parameters()), lr=0.0001)"
   ]
  },
  {
   "cell_type": "markdown",
   "metadata": {},
   "source": [
    "## Training and Loss function "
   ]
  },
  {
   "cell_type": "markdown",
   "metadata": {},
   "source": [
    "### \\begin{equation*}\n",
    "    \\arg \\min_{f,g}  \\mathcal{L}_{pred}(f,\\mathcal{S}) +  \\mathcal{L}_{int}(f,g,\\mathcal{S}),\n",
    "\\end{equation*}\n",
    "### \\begin{equation*}\n",
    "     \\mathcal{L}_{int}(f, \\Phi, h , d, \\mathcal{S})  = \\beta\\mathcal{L}_{of}(f, \\Phi, h, \\mathcal{S}) +       \\gamma\\mathcal{L}_{if}(\\Phi, d, \\mathcal{S}) + \\delta\\mathcal{L}_{cd}(\\Phi, \\mathcal{S})\n",
    "\\end{equation*}"
   ]
  },
  {
   "cell_type": "markdown",
   "metadata": {},
   "source": [
    "### \\begin{equation*}\n",
    "     \\mathcal{L}_{if}(\\Phi, d, \\mathcal{S}) = \\sum_{x \\in \\mathcal{S}}(d(\\Phi(x^\\mathcal{I})) - x)^2\n",
    "    \\end{equation*}\n",
    "### \\begin{equation*}\n",
    "    \\mathcal{L}_{of}(f, g, \\mathcal{S}) = - \\sum_{x \\in \\mathcal{S}} h(\\Phi(x^\\mathcal{I}))^Tlog(f(x))\n",
    "    \\end{equation*}\n",
    "### \\begin{equation*}\n",
    "    \\mathcal{L}_{cd}(\\Phi, \\mathcal{S}) = -\\mathcal{E}(\\bar{\\Phi}_{\\mathcal{S}}) + \\sum_{x \\in \\mathcal{S}}\\mathcal{E}(\\Phi(x^\\mathcal{I})) + \\sum_{x \\in \\mathcal{S}}\\eta\\|\\Phi(x^\\mathcal{I})\\|_1\n",
    "\\end{equation*}"
   ]
  },
  {
   "cell_type": "code",
   "execution_count": 51,
   "metadata": {},
   "outputs": [],
   "source": [
    "def loss_cce(prediction, target):\n",
    "    # Assume shape of batch_size x n_classes with unnormalized class scores for prediction and target\n",
    "    # Compute softmax to get probabilities and then compute generalized cross entropy loss\n",
    "    p = nn.Softmax(dim=1)(prediction)\n",
    "    t = nn.Softmax(dim=1)(target)\n",
    "    loss = (p.log() * -t).sum(dim=1).mean()\n",
    "    return loss\n",
    "\n",
    "def train(f, g, h, d, device, train_loader, optimizer, epoch, lmbd_acc=1.0, lmbd_rec=0, lmbd_expl=0, lmbd_spa=0, lmbd_ent=0):\n",
    "    # f denotes the main classifier\n",
    "    # g maps intermediate layer of f to attribute space: The Variable g in this code is same as attribute function Phi\n",
    "    train_loss_acc = 0.0\n",
    "    train_loss_rec = 0.0\n",
    "    train_loss_exp = 0.0\n",
    "    train_loss_ent = 0.0\n",
    "    train_loss_spa = 0.0\n",
    "    f.train(), g.train(), h.train(), d.train()\n",
    "    print (lmbd_acc, lmbd_rec, lmbd_expl, lmbd_spa, lmbd_ent)\n",
    "    for batch_idx, batch_info in enumerate(train_loader):\n",
    "        data, target = batch_info[0].to(device), batch_info[1].to(device)\n",
    "        batch_size = int(target.shape[0])\n",
    "        optimizer.zero_grad()\n",
    "        output, inter = f(data)       \n",
    "        embed = g(inter)\n",
    "        rec_data, expl = d(embed), h(embed)\n",
    "\n",
    "        loss_acc = criterion(output, target)\n",
    "        loss_rec = criterion2(rec_data, data)\n",
    "        loss_expl = loss_cce(expl, output.detach())\n",
    "        loss_ent1 = loss_cce(embed.abs(), embed.abs())\n",
    "        loss_ent = loss_ent1 - 1.0*loss_cce(embed.abs().mean(dim=0).unsqueeze(0), embed.abs().mean(dim=0).unsqueeze(0))\n",
    "        loss_spa = nn.L1Loss()(embed, torch.zeros(embed.shape).to(device))\n",
    "        loss = lmbd_acc*loss_acc + lmbd_rec*loss_rec + lmbd_expl*loss_expl  + lmbd_spa*loss_spa + lmbd_ent*loss_ent\n",
    "        loss.backward()\n",
    "        optimizer.step()\n",
    "\n",
    "        train_loss_acc += loss_acc.item()\n",
    "        train_loss_rec += loss_rec.item()\n",
    "        train_loss_spa += loss_spa.item()\n",
    "        train_loss_ent += loss_ent.item()\n",
    "        train_loss_exp += loss_expl.item()\n",
    "\n",
    "    train_loss_acc = train_loss_acc / (len(train_loader.dataset) / batch_size)\n",
    "    train_loss_rec = train_loss_rec / (len(train_loader.dataset) / batch_size)\n",
    "    train_loss_exp = train_loss_exp / (len(train_loader.dataset) / batch_size)\n",
    "    train_loss_spa = train_loss_spa / (len(train_loader.dataset) / batch_size)\n",
    "    train_loss_ent = train_loss_ent / (len(train_loader.dataset) / batch_size)\n",
    "\n",
    "    return [train_loss_acc, train_loss_rec, train_loss_exp, train_loss_spa, train_loss_ent]\n",
    "\n",
    "#for epoch in range(1, 12 + 1):\n",
    "#    test_info = test(f, g, h, d, device, test_loader, 1.0, 1.0, 1.0)\n",
    "#    train_info = train(f, g, h, d, device, train_loader, optimizer, epoch, lmbd_acc=1.0, lmbd_rec=0.8*int(epoch>0), lmbd_expl=0.5*int(epoch>2), lmbd_spa=0.1*int(epoch>2), lmbd_ent=0.2*int(epoch>4)) \n",
    "#    test_epoch_info.append(test_info)\n",
    "#    train_epoch_info.append(train_info)\n",
    "\n"
   ]
  },
  {
   "cell_type": "markdown",
   "metadata": {},
   "source": [
    "## Evaluation and Generating Interpretations "
   ]
  },
  {
   "cell_type": "markdown",
   "metadata": {},
   "source": [
    "#### Loading model "
   ]
  },
  {
   "cell_type": "code",
   "execution_count": 72,
   "metadata": {},
   "outputs": [],
   "source": [
    "checkpoint1 = torch.load('output/' + dataset + '_output/model_opt_savedata_10.pt', map_location='cpu') # For MNIST\n",
    "f.load_state_dict(checkpoint1['f_state_dict'])\n",
    "g.load_state_dict(checkpoint1['g_state_dict'])\n",
    "h.load_state_dict(checkpoint1['h_state_dict'])\n",
    "d.load_state_dict(checkpoint1['d_state_dict'])\n",
    "f, g, h, d = f.eval(), g.eval(), h.eval(), d.eval()"
   ]
  },
  {
   "cell_type": "markdown",
   "metadata": {},
   "source": [
    "### Accuracy computation "
   ]
  },
  {
   "cell_type": "code",
   "execution_count": 73,
   "metadata": {},
   "outputs": [
    {
     "name": "stdout",
     "output_type": "stream",
     "text": [
      "Accuracy of f (in %): 99.05\n",
      "Accuracy of g (in %): 98.37\n",
      "Fidelity of g (in %): 98.76\n"
     ]
    }
   ],
   "source": [
    "def analyze(f, g, h, d, device, test_loader, location):\n",
    "    f.eval(), g.eval(), h.eval(), d.eval()\n",
    "    f, g, h, d = f.to(device), g.to(device), h.to(device), d.to(device)\n",
    "    conf_matx_fy = np.zeros([10, 10]) # n_classes x n_classes\n",
    "    conf_matx_hf = np.zeros([10, 10])\n",
    "    conf_matx_hy = np.zeros([10, 10])\n",
    "    for batch_info in test_loader:\n",
    "        data, target = batch_info[0].to(device), batch_info[1].to(device)\n",
    "        output, inter = f(data)\n",
    "        embed = g(inter)\n",
    "        rec_data, expl = d(embed), h(embed)\n",
    "        pred_f = output.argmax(dim=1).cpu().data.numpy()\n",
    "        pred_h = expl.argmax(dim=1).cpu().data.numpy()\n",
    "        y = target.cpu().data.numpy()\n",
    "        for j in range(y.shape[0]):\n",
    "            conf_matx_fy[pred_f[j], y[j]] += 1\n",
    "            conf_matx_hf[pred_h[j], pred_f[j]] += 1\n",
    "            conf_matx_hy[pred_h[j], y[j]] += 1\n",
    "\n",
    "    return conf_matx_fy, conf_matx_hf, conf_matx_hy\n",
    "\n",
    "facc, fidelity, gacc = analyze(f, g, h, d, device, test_loader, '')\n",
    "print (\"Accuracy of f (in %):\", np.diag(facc).sum()*100/len(test_data))\n",
    "print (\"Accuracy of g (in %):\", np.diag(gacc).sum()*100/len(test_data))\n",
    "print (\"Fidelity of g (in %):\", np.diag(fidelity).sum()*100/len(test_data))"
   ]
  },
  {
   "cell_type": "markdown",
   "metadata": {},
   "source": [
    "### Conciseness computation"
   ]
  },
  {
   "cell_type": "code",
   "execution_count": 11,
   "metadata": {},
   "outputs": [],
   "source": [
    "def collect_g_data(f, g, h, device, data, subset=False):\n",
    "    f.eval(), g.eval(), h.eval()\n",
    "    f, g, h = f.to(device), g.to(device), h.to(device)\n",
    "    weights = h.fc1.weight.cpu().data.numpy()\n",
    "    g_data = []\n",
    "    all_y = []\n",
    "    num_batch = 0\n",
    "    subset_data = []\n",
    "    expl_data = [] # Only append data in this if subset is true, else it'll possibly increase the time by a lot\n",
    "    expl_pred = []\n",
    "    if not subset:\n",
    "        dataloader = torch.utils.data.DataLoader(data, batch_size=16*4, shuffle=False, num_workers=64)\n",
    "    else:\n",
    "        dataloader = torch.utils.data.DataLoader(data, batch_size=20, shuffle=True, num_workers=20)\n",
    "    for batch_info in dataloader:\n",
    "        num_batch += 1\n",
    "        data, target = batch_info[0].to(device), batch_info[1].to(device)                                 \n",
    "        output, inter = f(data)\n",
    "        embed = g(inter)\n",
    "        expl = np.zeros(embed.shape)\n",
    "        pred = h(embed).argmax(dim=1).cpu().data.numpy()\n",
    "        g_data.append(embed.cpu().data.numpy())\n",
    "        all_y += list(target.cpu().data.numpy())\n",
    "        expl_pred += list(h(embed).argmax(dim=1).cpu().data.numpy())\n",
    "        if subset:\n",
    "            subset_data.append(data)\n",
    "            for i in range(pred.shape[0]):\n",
    "                expl[i] = embed[i].cpu().data.numpy() * weights[pred[i]]\n",
    "                expl[i] = expl[i]/expl[i].max()\n",
    "            expl_data.append(expl)\n",
    "            if num_batch > 50:\n",
    "                subset_data = torch.cat(subset_data).unsqueeze(dim=1) #unsqueeze is done to make code in save image functions compatible with shape of subset_data\n",
    "                break\n",
    "    g_data = np.concatenate(g_data)\n",
    "    if subset:\n",
    "        expl_data = np.concatenate(expl_data)\n",
    "    return g_data, np.array(all_y), subset_data, expl_data, np.array(expl_pred)"
   ]
  },
  {
   "cell_type": "code",
   "execution_count": 74,
   "metadata": {},
   "outputs": [
    {
     "name": "stdout",
     "output_type": "stream",
     "text": [
      "[1.0387, 1.0689, 1.0911, 1.1142, 1.1675, 1.2351]\n"
     ]
    }
   ],
   "source": [
    "def sparse_sense(f, g, h, data, mults):\n",
    "    f, g, h = f.eval(), g.eval(), h.eval()\n",
    "    gdata = collect_g_data(f, g, h, device, data)[0]\n",
    "    pred = h(torch.tensor(gdata).to(device)).argmax(dim=1).cpu().data.numpy()\n",
    "    weights  = h.fc1.weight.cpu().data.numpy()\n",
    "    result = []\n",
    "    for multiplier in mults:\n",
    "        sparse = 0\n",
    "        for i in range(pred.shape[0]):\n",
    "            expl_vec = np.abs(gdata[i] * weights[pred[i]])\n",
    "            thresh = np.abs(expl_vec).max() / multiplier\n",
    "            sparse += np.sum(expl_vec > thresh)\n",
    "        #print (sparse/pred.shape[0])\n",
    "        result.append(sparse/pred.shape[0])\n",
    "    return result\n",
    "\n",
    "mults = [1.5, 2.0, 2.5, 3.0, 4.0, 5.0]\n",
    "conciseness = sparse_sense(f, g, h, test_data, mults)\n",
    "print (conciseness)\n"
   ]
  },
  {
   "cell_type": "markdown",
   "metadata": {},
   "source": [
    "### Generating Global Interpretations "
   ]
  },
  {
   "cell_type": "code",
   "execution_count": 75,
   "metadata": {},
   "outputs": [],
   "source": [
    "def grad_inp_embed(f_gb, g, device, inp, embed_idx, dataset='mnist'):\n",
    "    # Computes appropriate saliency map for an attribute w.r.t input\n",
    "    # Assume inp of shape 1 x 28 x 28\n",
    "    g = g.eval()\n",
    "    inp = inp.unsqueeze(0)\n",
    "    g, inp = g.to(device), inp.to(device)\n",
    "    inp.requires_grad = True\n",
    "    if dataset == 'qdraw':\n",
    "        output, inter = f_gb.model(inp)\n",
    "    else:\n",
    "        output, inter = f_gb(inp)\n",
    "    if dataset == 'qdraw':\n",
    "        f_gb.model.zero_grad()\n",
    "    else:\n",
    "        f_gb.zero_grad()\n",
    "    embed = g(inter)\n",
    "    if dataset == 'mnist' or dataset == 'fmnist' or dataset == 'qdraw':\n",
    "        grad = torch.autograd.grad(embed[0, embed_idx], inp)[0][0, 0].cpu().data.numpy()\n",
    "    elif dataset == 'cifar10':\n",
    "        grad = torch.autograd.grad(embed[0, embed_idx], inp)[0][0].abs().sum(dim=0).cpu().data.numpy() # Add the code to shift axes, then remove this comment\n",
    "    #print (grad.shape)\n",
    "    return grad\n",
    "\n",
    "def optimize_inp(f, g, embed_idx, device, inp_shape=[1, 1, 28, 28], init=None, max_val=1.0, min_val=0.0, lmbd_tv=1.0, lmbd_bound=1.0, C=1.0, lmbd_l1=0):\n",
    "    # Function to run activation maximization with partial initialization\n",
    "    # initialize input with input shape and make requires_grad True\n",
    "    f, g = f.eval().to(device), g.eval().to(device) \n",
    "    inp = torch.empty(inp_shape).to(device)\n",
    "    if init is None:\n",
    "        #4.0 * (nn.init.uniform_(inp) - 0.5) # Initialization line\n",
    "        nn.init.uniform_(inp)\n",
    "    else:\n",
    "        inp = 1.0 * init\n",
    "    inp.requires_grad = True\n",
    "    new_lr = 0.05\n",
    "    for epoch in range(6):\n",
    "        #optimizer = optim.SGD([inp], lr=new_lr, momentum=0.9)\n",
    "        optimizer = optim.Adam([inp], lr=new_lr)\n",
    "        new_lr = new_lr/2\n",
    "        for i in range(50):\n",
    "            optimizer.zero_grad()\n",
    "            output, inter = f(inp)\n",
    "            embed = g(inter)\n",
    "\n",
    "            loss_l1 = (inp.abs()).mean()\n",
    "            loss_bound = (( (inp > max_val).float() + (inp < min_val).float() )*(inp.abs())).mean()\n",
    "            loss_tv = (inp[:, :, 0:inp_shape[2]-1, :] - inp[:, :, 1:inp_shape[2], :]).abs().mean() + (inp[:, :, :, 0:inp_shape[3]-1] - inp[:, :, :, 1:inp_shape[3]]).abs().mean()\n",
    "            loss = C*embed[:, embed_idx].sum() - lmbd_l1 * loss_l1 - lmbd_bound * loss_bound - lmbd_tv * loss_tv\n",
    "\n",
    "            loss.backward()\n",
    "            inp.grad = -1 * inp.grad\n",
    "            optimizer.step()\n",
    "            if (i % 51 == 0 and i == 3):\n",
    "                print (epoch, loss.item(), embed[:, embed_idx].sum(), loss_l1.item(), loss_bound.item(), loss_tv.item())\n",
    "    return inp.cpu().data.numpy()\n",
    "\n",
    "def save_expl_images_class(indices, data, gdata, f, f_copy, g, device, dataset, model_name='', d=None):\n",
    "    # This function assumes specific shape of indices\n",
    "    if dataset == 'qdraw':\n",
    "        f_gb = gb.GuidedBackprop(f)\n",
    "    else:\n",
    "        f_gb = f\n",
    "    f_copy = f_copy.eval()\n",
    "    for i in range(indices.shape[2]): # Fixing the attribute (coordinate of attribute vector)\n",
    "        for j in range(indices.shape[0]): # Fixing the class\n",
    "            for k in range(indices.shape[1]):\n",
    "                if indices[j, k, i] == -1:\n",
    "                    continue\n",
    "                img = data[indices[j, k, i]][0].cpu().data.numpy()[0]\n",
    "                if dataset == 'qdraw':\n",
    "                    init_img = 0.1*data[indices[j, k, i]]\n",
    "                else:\n",
    "                    init_img = 0.2*data[indices[j, k, i]] \n",
    "                cur_img = optimize_inp(f_copy, g, i, device, list(init_img.shape), init=init_img, lmbd_bound=10.0, lmbd_tv=6.0, C=2.0, lmbd_l1=0.0)\n",
    "                grad = grad_inp_embed(f_gb, g, device, data[indices[j, k, i]][0], i, dataset=dataset)\n",
    "                if gdata[indices[j, k, i], i] < gdata[:, i].max()/4.0:\n",
    "                    continue\n",
    "                fig = plt.figure()\n",
    "                fig.add_subplot(1, 5, 1)\n",
    "                plt.imshow(img)\n",
    "                plt.axis('off')\n",
    "                fig.add_subplot(1, 5, 2)\n",
    "                plt.imshow(grad)\n",
    "                plt.axis('off')\n",
    "                fig.add_subplot(1, 5, 3)\n",
    "                attr = g(f(data[indices[j, k, i]][0].unsqueeze(0))[1])\n",
    "                plt.imshow(np.moveaxis(d(attr)[0].cpu().data.numpy(), 0, -1)[:, :, 0])\n",
    "                plt.axis('off')\n",
    "                attr[:, i] = 0\n",
    "                fig.add_subplot(1, 5, 4)\n",
    "                plt.imshow(np.moveaxis(d(attr)[0].cpu().data.numpy(), 0, -1)[:, :, 0])\n",
    "                plt.axis('off')\n",
    "                fig.add_subplot(1, 5, 5)\n",
    "                plt.imshow(cur_img[0, 0])\n",
    "                plt.axis('off')\n",
    "                fig.subplots_adjust(wspace=0.04) \n",
    "                plt.savefig('output/' + dataset + '_output/explanation_images_' + model_name  + '/attr' + str(i) + '_class' + str(j) + '_' + str(k), bbox_inches='tight', pad_inches = 0.03)\n",
    "                plt.close()\n",
    "                \n",
    "    return\n"
   ]
  },
  {
   "cell_type": "code",
   "execution_count": 76,
   "metadata": {},
   "outputs": [
    {
     "name": "stdout",
     "output_type": "stream",
     "text": [
      "Generating explanations\n",
      "Collecting attribute vectors on random subset of the given data\n",
      "Writing images in an old folder. May overwrite some files\n",
      "Saving images\n"
     ]
    }
   ],
   "source": [
    "def generate_model_explanations(f, g, h, d, data, device, dataset, model_name='', subset=False):\n",
    "    if not subset:\n",
    "        print ('Collecting attribute vectors on the given data')\n",
    "    else:\n",
    "        print ('Collecting attribute vectors on random subset of the given data')\n",
    "    gdata, all_y, subset_data, expl_data, expl_pred = collect_g_data(f, g, h, device, data, subset=subset)\n",
    "    indices2, rel = utils.extract_attr_class_max(gdata, all_y, expl_data, expl_pred, 3, thresh=0.1)\n",
    "    try:\n",
    "        os.mkdir('output/' + dataset + '_output/explanation_images_' + str(model_name))\t\n",
    "        #os.mkdir('output/' + dataset + '_output/explanation_images_' + str(model_name) + '/inp_optimize')\n",
    "    except:\n",
    "        print ('Writing images in an old folder. May overwrite some files')\n",
    "    print ('Saving images')\n",
    "    if not subset:\n",
    "        subset_data = data\n",
    "    if dataset == 'qdraw':\n",
    "        f_copy = networks.MyResNet(n_classes=n_classes, version='34').to(device)\n",
    "    else:\n",
    "        f_copy = networks.Net2_MNIST_old().to(device)\n",
    "    f_copy.load_state_dict(checkpoint1['f_state_dict'])\n",
    "    \n",
    "    #save_expl_images_class(indices2, subset_data, gdata, f, f_copy, g, device, dataset, str(model_name), d)\n",
    "    return rel\n",
    "\n",
    "print ('Generating explanations')\n",
    "global_rel = generate_model_explanations(f, g, h, d, train_data, device, dataset, model_name='sample_model', subset=True)"
   ]
  },
  {
   "cell_type": "code",
   "execution_count": 77,
   "metadata": {},
   "outputs": [
    {
     "name": "stdout",
     "output_type": "stream",
     "text": [
      "(10, 25)\n"
     ]
    },
    {
     "data": {
      "image/png": "[encoded data removed]",
      "text/plain": [
       "<Figure size 720x720 with 2 Axes>"
      ]
     },
     "metadata": {
      "needs_background": "light"
     },
     "output_type": "display_data"
    }
   ],
   "source": [
    "print(global_rel.shape)\n",
    "def plot_rel(rel, dataset):\n",
    "    rel2 = 1.0*rel\n",
    "    if dataset == 'mnist':\n",
    "        class_name = ['Zero', 'One', 'Two', 'Three', 'Four', 'Five', 'Six', 'Seven', 'Eight', 'Nine']\n",
    "    elif dataset == 'qdraw':\n",
    "        class_name = ['Ant', 'Apple', 'Banana', 'Carrot', 'Cat', 'Cow', 'Dog', 'Frog', 'Grapes', 'Lion']\n",
    "    elif dataset == 'fmnist':\n",
    "        class_name = ['Ant', 'Apple', 'Banana', 'Carrot', 'Cat', 'Cow', 'Dog', 'Frog', 'Grapes', 'Lion'] \n",
    "    x_pos = np.array(range(rel.shape[1])).astype(str)\n",
    "    x_pos = np.array(['$\\phi_{'+i+'}$' for i in x_pos])\n",
    "    x_pos_int = np.array([i for i in np.array(range(rel.shape[1]))])\n",
    "\n",
    "    plt.figure(figsize=(10, 10))\n",
    "    plt.imshow(rel.T, cmap='hot', aspect=0.6)\n",
    "    plt.xticks(list(range(rel.shape[0])), class_name, fontsize=15, rotation=45)   \n",
    "    plt.yticks(list(range(rel.shape[1])), range(rel.shape[1]), fontsize=12, rotation=0)\n",
    "    plt.ylabel('Attribute number', fontsize=20)\n",
    "    plt.title('Class-attribute relevances', fontsize=21)\n",
    "    plt.colorbar()\n",
    "    plt.show()\n",
    "    \n",
    "    return\n",
    "plot_rel(global_rel, 'mnist')"
   ]
  },
  {
   "cell_type": "markdown",
   "metadata": {},
   "source": [
    "### Generating Local Interpretations "
   ]
  },
  {
   "cell_type": "code",
   "execution_count": 78,
   "metadata": {},
   "outputs": [
    {
     "name": "stdout",
     "output_type": "stream",
     "text": [
      "Predicted class: 9\n"
     ]
    },
    {
     "data": {
      "image/png": "[encoded data removed]",
      "text/plain": [
       "<Figure size 864x360 with 2 Axes>"
      ]
     },
     "metadata": {
      "needs_background": "light"
     },
     "output_type": "display_data"
    },
    {
     "data": {
      "image/png": "[encoded data removed]",
      "text/plain": [
       "<Figure size 864x360 with 3 Axes>"
      ]
     },
     "metadata": {
      "needs_background": "light"
     },
     "output_type": "display_data"
    }
   ],
   "source": [
    "def analyze_img(f, g, h, d, idx, n_attr=3, save=False, location=None):\n",
    "    f_copy, g, d = f.eval(), g.eval(), d.eval()\n",
    "    init_img = test_data[idx][0].unsqueeze(0)\n",
    "\n",
    "    init_shape = init_img.shape\n",
    "    img = init_img[0, 0].cpu().data.numpy()\n",
    "\n",
    "    # Complete the computations\n",
    "    output, inter = f_copy(init_img)\n",
    "    embed1 = g(inter)\n",
    "    weights = h.fc1.weight.cpu().data.numpy()\n",
    "    pred = h(embed1).argmax(dim=1).cpu().data.numpy()\n",
    "    print (\"Predicted class:\", pred[0])\n",
    "    expl1 = embed1[0].cpu().data.numpy() * weights[pred[0]]\n",
    "    expl1 = expl1 / np.abs(expl1).max()\n",
    "    attr_idx1 = expl1.argsort()[-1]\n",
    "    attr_idx2 = expl1.argsort()[-2]\n",
    "    attr_idx3 = expl1.argsort()[-3]\n",
    "    cur_img1 = optimize_inp(f_copy, g, attr_idx1, device, list(init_img.shape), init=0.2*init_img, lmbd_bound=10.0, lmbd_tv=6.0, C=2.0, lmbd_l1=0.0)\n",
    "    cur_img2 = optimize_inp(f_copy, g, attr_idx2, device, list(init_img.shape), init=0.2*init_img, lmbd_bound=10.0, lmbd_tv=6.0, C=2.0, lmbd_l1=0.0)\n",
    "    cur_img3 = optimize_inp(f_copy, g, attr_idx3, device, list(init_img.shape), init=0.2*init_img, lmbd_bound=10.0, lmbd_tv=6.0, C=2.0, lmbd_l1=0.0)\n",
    "\n",
    "    # Make the plot\n",
    "    fig = plt.figure(figsize=(12, 5))\n",
    "    fig.add_subplot(1, 2, 1)\n",
    "    plt.imshow(img)\n",
    "    #plt.title('Input sample', fontsize=28)\n",
    "    plt.axis('off')\n",
    "\n",
    "    fig.add_subplot(1, 2, 2)\n",
    "    x_pos = np.array(range(expl1.shape[0])).astype(str)\n",
    "    x_pos = np.array(['$\\phi_{'+i+'}$' for i in x_pos])\n",
    "    plt.bar(list(range(n_attr)), -1*np.sort(-1*expl1)[:n_attr], color='green')\n",
    "    plt.xticks(list(range(n_attr)), x_pos[np.array([attr_idx1, attr_idx2, attr_idx3])], fontsize=32)\n",
    "    plt.yticks([0, 0.5, 1], [0.0, 0.5, 1.0], fontsize=23)\n",
    "    plt.ylabel('Relevance to prediction', fontsize=24)\n",
    "    #plt.subplots_adjust(wspace=0.05)\n",
    "    if not save:\n",
    "        plt.show()\n",
    "    else:\n",
    "        plt.savefig(location + '/s' + str(idx) + '_rel_')\n",
    "        plt.close()\n",
    "\n",
    "    fig = plt.figure(figsize=(12, 5))\n",
    "    fig.add_subplot(1, 3, 1)\n",
    "    plt.imshow(cur_img1[0, 0])\n",
    "    plt.axis('off')\n",
    "    plt.title('$\\phi_{'+str(attr_idx1)+'}$', fontsize=32)\n",
    "    fig.add_subplot(1, 3, 2)\n",
    "    plt.imshow(cur_img2[0, 0])\n",
    "    plt.axis('off')\n",
    "    plt.title('$\\phi_{'+str(attr_idx2)+'}$', fontsize=32)\n",
    "    fig.add_subplot(1, 3, 3)\n",
    "    plt.imshow(cur_img3[0, 0])\n",
    "    plt.axis('off')\n",
    "    plt.title('$\\phi_{'+str(attr_idx3)+'}$', fontsize=32)\n",
    "    plt.subplots_adjust(wspace=0.05)\n",
    "    if not save:\n",
    "        plt.show()\n",
    "    else:\n",
    "        plt.savefig(location + '/s' + str(idx) + '_att3_')\n",
    "        plt.close()\n",
    " \n",
    "    return cur_img1, cur_img2\n",
    "\n",
    "im1, im2 = analyze_img(f, g, h, d, 12, n_attr=3, save=False, location=None)\n"
   ]
  },
  {
   "cell_type": "code",
   "execution_count": 79,
   "metadata": {},
   "outputs": [
    {
     "name": "stdout",
     "output_type": "stream",
     "text": [
      "Predicted class: 9\n"
     ]
    },
    {
     "data": {
      "image/png": "[encoded data removed]",
      "text/plain": [
       "<Figure size 864x360 with 2 Axes>"
      ]
     },
     "metadata": {
      "needs_background": "light"
     },
     "output_type": "display_data"
    },
    {
     "data": {
      "image/png": "[encoded data removed]",
      "text/plain": [
       "<Figure size 864x360 with 3 Axes>"
      ]
     },
     "metadata": {
      "needs_background": "light"
     },
     "output_type": "display_data"
    }
   ],
   "source": [
    "im1, im2 = analyze_img(f, g, h, d, 7, n_attr=3, save=False, location=None)"
   ]
  }
 ],
 "metadata": {
  "kernelspec": {
   "display_name": "Python 3",
   "language": "python",
   "name": "python3"
  },
  "language_info": {
   "codemirror_mode": {
    "name": "ipython",
    "version": 3
   },
   "file_extension": ".py",
   "mimetype": "text/x-python",
   "name": "python",
   "nbconvert_exporter": "python",
   "pygments_lexer": "ipython3",
   "version": "3.6.9"
  }
 },
 "nbformat": 4,
 "nbformat_minor": 4
}
